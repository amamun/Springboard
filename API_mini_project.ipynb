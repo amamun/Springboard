{
 "cells": [
  {
   "cell_type": "code",
   "execution_count": 1,
   "id": "201deea5",
   "metadata": {},
   "outputs": [
    {
     "name": "stdout",
     "output_type": "stream",
     "text": [
      "PL5dTz4o2XSLyDymjb8A\n"
     ]
    }
   ],
   "source": [
    "import os\n",
    "from dotenv import load_dotenv\n",
    "\n",
    "load_dotenv()\n",
    "API_KEY = os.getenv('NASDAQ_API_KEY')\n",
    "\n",
    "print(API_KEY)"
   ]
  },
  {
   "cell_type": "code",
   "execution_count": 2,
   "id": "d84431a8",
   "metadata": {},
   "outputs": [],
   "source": [
    "import requests\n",
    "import pandas as pd\n",
    "import json"
   ]
  },
  {
   "cell_type": "code",
   "execution_count": 3,
   "id": "71daaea8",
   "metadata": {},
   "outputs": [],
   "source": [
    "url = \"https://data.nasdaq.com/api/v3/datasets/FSE/AFX_X/data.json?start_date=2014-01-01&end_date=2014-01-01&api_key=\"\n",
    "r = requests.get(url + API_KEY)\n",
    "json_data = r.json()"
   ]
  },
  {
   "cell_type": "code",
   "execution_count": 4,
   "id": "02216b12",
   "metadata": {},
   "outputs": [],
   "source": [
    "url = \"https://data.nasdaq.com/api/v3/datasets/FSE/AFX_X/data.json?start_date=2017-01-01&end_date=2017-12-31&api_key=\"\n",
    "r_2017 = requests.get(url + API_KEY)\n",
    "json_data_2017 = r_2017.json()"
   ]
  },
  {
   "cell_type": "code",
   "execution_count": 5,
   "id": "64f5c506",
   "metadata": {},
   "outputs": [
    {
     "name": "stdout",
     "output_type": "stream",
     "text": [
      "<class 'dict'>\n"
     ]
    }
   ],
   "source": [
    "print(type(json_data_2017))"
   ]
  },
  {
   "cell_type": "code",
   "execution_count": 6,
   "id": "3d2dbfc5",
   "metadata": {},
   "outputs": [],
   "source": [
    "#print(json.dumps(json_data_2017, indent=2))"
   ]
  },
  {
   "cell_type": "code",
   "execution_count": 7,
   "id": "6208d23c",
   "metadata": {},
   "outputs": [
    {
     "name": "stdout",
     "output_type": "stream",
     "text": [
      "3. Ans: The highest opening price is 53.54\n",
      "3. Ans: The lowest opening price is 33.62\n",
      "4. Ans: Largest Change in any one day is 2.81\n",
      "5. Ans: Largest Change in closing prices in any two days is 2.56\n",
      "6. Ans: Average trading volume is 89124.34\n"
     ]
    }
   ],
   "source": [
    "high_prices = []\n",
    "low_prices = []\n",
    "price_diff = []\n",
    "closing_prices = []\n",
    "trading_prices = []\n",
    "price_data = json_data_2017['dataset_data']['data']\n",
    "for i in range(len(price_data)):\n",
    "    high_prices.append(price_data[i][2])\n",
    "    low_prices.append(price_data[i][3])\n",
    "    trading_prices.append(price_data[i][6])\n",
    "    price_diff.append(price_data[i][2] - price_data[i][3])\n",
    "               \n",
    "for i in range(len(price_data)-1):\n",
    "    if (price_data[i][4] - price_data[i+1][4] > 0):\n",
    "        closing_prices.append(price_data[i][4] - price_data[i+1][4])\n",
    "    else:\n",
    "        closing_prices.append(price_data[i+1][4] - price_data[i][4])\n",
    "           \n",
    "average_trade_price = sum(trading_prices)/len(trading_prices)      \n",
    "sorted_trade_volume = sorted(trading_prices)\n",
    "print(f\"3. Ans: The highest opening price is {max(high_prices):0.2f}\")\n",
    "print(f\"3. Ans: The lowest opening price is {min(low_prices):0.2f}\")\n",
    "print(f\"4. Ans: Largest Change in any one day is {max(price_diff):0.2f}\")\n",
    "print(f\"5. Ans: Largest Change in closing prices in any two days is {max(closing_prices):0.2f}\")\n",
    "print(f\"6. Ans: Average trading volume is {average_trade_price:0.2f}\")"
   ]
  },
  {
   "cell_type": "code",
   "execution_count": 8,
   "id": "b5771f7f",
   "metadata": {},
   "outputs": [
    {
     "name": "stdout",
     "output_type": "stream",
     "text": [
      "255\n"
     ]
    }
   ],
   "source": [
    "print(len(sorted_trade_volume))"
   ]
  },
  {
   "cell_type": "code",
   "execution_count": 9,
   "id": "a11adba6",
   "metadata": {},
   "outputs": [
    {
     "name": "stdout",
     "output_type": "stream",
     "text": [
      "7. Ans: Median trading volume is 76286.0\n"
     ]
    }
   ],
   "source": [
    "# The length is odd, so\n",
    "\n",
    "median_index = int((len(sorted_trade_volume)-1)/2)\n",
    "print(f\"7. Ans: Median trading volume is {sorted_trade_volume[median_index]}\")"
   ]
  }
 ],
 "metadata": {
  "kernelspec": {
   "display_name": "Python 3 (ipykernel)",
   "language": "python",
   "name": "python3"
  },
  "language_info": {
   "codemirror_mode": {
    "name": "ipython",
    "version": 3
   },
   "file_extension": ".py",
   "mimetype": "text/x-python",
   "name": "python",
   "nbconvert_exporter": "python",
   "pygments_lexer": "ipython3",
   "version": "3.9.12"
  }
 },
 "nbformat": 4,
 "nbformat_minor": 5
}
